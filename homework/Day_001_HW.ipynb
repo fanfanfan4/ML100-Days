{
 "cells": [
  {
   "cell_type": "markdown",
   "metadata": {},
   "source": [
    "# 作業1："
   ]
  },
  {
   "cell_type": "markdown",
   "metadata": {},
   "source": [
    "請上 Kaggle, 在 Competitions 或 Dataset 中找一組競賽或資料並寫下：\n",
    "\n",
    "A:選擇的競賽網址(\"https://www.kaggle.com/c/human-protein-atlas-image-classification\")\n",
    "\n",
    "    \n",
    "    \n",
    "1. 你選的這組資料為何重要\n",
    "\n",
    "A:對世界很有貢獻:可能成為未來醫學進展的突破點\n",
    "\n",
    "        \n",
    "        \n",
    "2. 資料從何而來 (tips: 譬如提供者是誰、以什麼方式蒐集)\n",
    "\n",
    "A:資料提供者為瑞典的人類蛋白質圖譜專案\n",
    "使用共軛焦顯微成像技術製成的高度標準化的數據集\n",
    "\n",
    "\n",
    "\n",
    "3. 蒐集而來的資料型態為何\n",
    "\n",
    "A:非結構化:圖像\n",
    "\n",
    "\n",
    "\n",
    "4. 這組資料想解決的問題如何評估\n",
    "\n",
    "A:F1 score\n",
    "\n",
    "\n",
    "\n"
   ]
  },
  {
   "cell_type": "markdown",
   "metadata": {},
   "source": [
    "# 作業2："
   ]
  },
  {
   "cell_type": "markdown",
   "metadata": {},
   "source": [
    "想像你經營一個自由載客車隊，你希望能透過數據分析以提升業績，請你思考並描述你如何規劃整體的分析/解決方案：\n",
    "\n",
    "A:\"自由載客車隊\"似乎不是一個常見辭彙，可能代表著「uber」、「計程車隊」、「客運業」、「公共汽車頁」......等，\n",
    "    以下就先假設為「計程車隊」來作答。\n",
    "\n",
    "1. 核心問題為何 (tips：如何定義 「提升業績 & 你的假設」)\n",
    "\n",
    "A:\n",
    "\n",
    "要提升業績，就必須先找到業績成長的瓶頸，根據實際問題找出對應的解決方案，\n",
    "業績成長的瓶頸可能來自於整體市場的萎縮、競爭力不如其他同業、或有跨領域的挑戰者出現(如UBER)、服務品質低落、降雨日太多、連假太少...等問題。\n",
    "由於企業的資源有限，不可能一次處理所有的問題，所以必須先找到關鍵的問題，集中火力處理，才有可能達到顯著的效果！\n",
    "\n",
    "例如發現女性顧客下滑或低於同業，那可能就必須思考是否女性駕駛太少?車內外的整潔不足?司機不夠親切?...等問題\n",
    "\n",
    "2. 資料從何而來 (tips：哪些資料可能會對你想問的問題產生影響 & 資料如何蒐集)\n",
    "\n",
    "A:\n",
    "\n",
    "需要的資料概略上可以從業績的來源分析，以下用業績來拆解舉例可能所需要的資料:\n",
    "\n",
    "業績  = 來客數(年齡層分布、性別分布、時間分布、每車客數分布、載客地點分布......等) * 客單價(跳表規則:車程距離分布，車程時間分布)\n",
    "\n",
    "= 市場占有率(各競爭者市占率、市佔率與去年同期比較、市佔率與前月比較、市佔率變化趨勢) * 市場規模(市場規模連續幾年的變化)\n",
    "          \n",
    "= 本國籍客戶營業額(回頭客、新客戶、介紹客...等) + 外國籍客戶營業額(各國籍旅客人數分布、各國旅客來台時間分布、乘車地點分布)\n",
    "         \n",
    "= 司機數量(地點分布、時間分布、性別分布...等) * 單一司機營業額(平均營業額、司機營業額分布...等)\n",
    "\n",
    "\n",
    "除此之外，也需要蒐集一些其他方向的資訊，例如:\n",
    "\n",
    "顧客滿意度、客戶抱怨，企業形象......等\n",
    "\n",
    "\n",
    "資料的蒐集大體上可以分類:\n",
    "\n",
    "初級資料:\n",
    "內部營運資料如:營業額、來客數、客單價......等\n",
    "線上蒐集資料如:客戶抱怨、企業形象......等(可利用網路爬蟲蒐集)\n",
    "主動蒐集資料如:顧客滿意度問券、客戶訴願...等\n",
    "感測器蒐集資料如:GPS定位蒐集移動路線......等(或許能在車內裝監視器，再用AI分析客戶的情緒，即時判斷顧客情緒變化，即早處置提升顧客滿意度)\n",
    "\n",
    "次級資料:\n",
    "市佔率、市場規模、外國旅客來台人數、是否下雨...等(可能來自於公會資料、雜誌新聞的報導、政府的公開資訊，或者自己蒐集資訊粗略估算...等)\n",
    "\n",
    "3. 蒐集而來的資料型態為何\n",
    "\n",
    "A:\n",
    "\n",
    "營運資料大多是數值與表格\n",
    "客戶資料有表格、文字等\n",
    "定位資訊需要GIS地理資訊圖集\n",
    "\n",
    "\n",
    "4. 你要回答的問題，其如何評估 (tips：你的假設如何驗證)\n",
    "\n",
    "假如發現女性顧客低於同業水平，則可以進行分類預測，\n",
    "例如女性司機是否會吸引較多的女性客戶?\n",
    "或是哪種車型較吸引女性客戶?\n",
    "或是哪種折扣較吸引女性客戶?\n",
    "\n",
    "可以利用Precision-Recall的方式來評估應該優先嘗試哪一種方案\n",
    "並著重在Recall上\n",
    "\n",
    "\n",
    "\n",
    "\n"
   ]
  },
  {
   "cell_type": "markdown",
   "metadata": {},
   "source": [
    "# 作業三:"
   ]
  },
  {
   "cell_type": "markdown",
   "metadata": {},
   "source": [
    "# 統計指標實作範例\n",
    "## 常見於迴歸問題的評估指標\n",
    "* Mean Absolute Error (MAE)\n",
    "* Mean Squared Error (MSE)\n",
    "\n",
    "## 常見於分類問題的指標\n",
    "* Binary Cross Entropy (CE)\n",
    "\n",
    "##### 後面的課程還會有更詳細的說明"
   ]
  },
  {
   "cell_type": "code",
   "execution_count": 22,
   "metadata": {},
   "outputs": [],
   "source": [
    "import numpy as np\n",
    "import matplotlib.pyplot as plt"
   ]
  },
  {
   "cell_type": "code",
   "execution_count": 23,
   "metadata": {},
   "outputs": [
    {
     "data": {
      "image/png": "[encoded data removed]",
      "text/plain": [
       "<Figure size 432x288 with 1 Axes>"
      ]
     },
     "metadata": {},
     "output_type": "display_data"
    }
   ],
   "source": [
    "w = 3\n",
    "b = 0.5\n",
    "\n",
    "x_lin = np.linspace(0, 100, 101)\n",
    "\n",
    "y = (x_lin + np.random.randn(101) * 5) * w + b\n",
    "\n",
    "plt.plot(x_lin, y, 'b.', label = 'data points')\n",
    "plt.title(\"Assume we have data points\")\n",
    "plt.legend(loc = 2)\n",
    "plt.show()"
   ]
  },
  {
   "cell_type": "code",
   "execution_count": 24,
   "metadata": {},
   "outputs": [
    {
     "data": {
      "image/png": "[encoded data removed]",
      "text/plain": [
       "<Figure size 432x288 with 1 Axes>"
      ]
     },
     "metadata": {},
     "output_type": "display_data"
    }
   ],
   "source": [
    "y_hat = x_lin * w + b\n",
    "plt.plot(x_lin, y, 'b.', label = 'data')\n",
    "plt.plot(x_lin, y_hat, 'r-', label = 'prediction')\n",
    "plt.title(\"Assume we have data points (And the prediction)\")\n",
    "plt.legend(loc = 2)\n",
    "plt.show()"
   ]
  },
  {
   "cell_type": "code",
   "execution_count": 25,
   "metadata": {},
   "outputs": [
    {
     "name": "stdout",
     "output_type": "stream",
     "text": [
      "The Mean absolute error is 12.916\n"
     ]
    }
   ],
   "source": [
    "def mean_absolute_error(y, yp):\n",
    "    \"\"\"\n",
    "    計算 MAE\n",
    "    Args:\n",
    "        - y: 實際值\n",
    "        - yp: 預測值\n",
    "    Return:\n",
    "        - mae: MAE\n",
    "    \"\"\"\n",
    "    mae = MAE = sum(abs(y - yp)) / len(y)\n",
    "    return mae\n",
    "\n",
    "MAE = mean_absolute_error(y, y_hat)\n",
    "print(\"The Mean absolute error is %.3f\" % (MAE))"
   ]
  },
  {
   "cell_type": "markdown",
   "metadata": {},
   "source": [
    "# 練習時間\n",
    "#### 請寫一個函式用來計算 Mean Square Error\n",
    "$ MSE = \\frac{1}{n}\\sum_{i=1}^{n}{(Y_i - \\hat{Y}_i)^2} $\n",
    "\n",
    "### Hint: [如何取平方](https://googoodesign.gitbooks.io/-ezpython/unit-1.html)"
   ]
  },
  {
   "cell_type": "code",
   "execution_count": 26,
   "metadata": {},
   "outputs": [
    {
     "name": "stdout",
     "output_type": "stream",
     "text": [
      "The Mean squared error is 256.535\n"
     ]
    }
   ],
   "source": [
    "def  mean_squared_error(y,yp):\n",
    "    mse = MSE = sum((y-yp)**2) / len(y)\n",
    "    return mse\n",
    "MSE = mean_squared_error(y, y_hat)\n",
    "print(\"The Mean squared error is %.3f\" % (MSE))"
   ]
  },
  {
   "cell_type": "code",
   "execution_count": 27,
   "metadata": {},
   "outputs": [
    {
     "data": {
      "image/png": "[encoded data removed]",
      "text/plain": [
       "<Figure size 432x288 with 1 Axes>"
      ]
     },
     "metadata": {},
     "output_type": "display_data"
    }
   ],
   "source": [
    "w = 3\n",
    "b = 0.5\n",
    "\n",
    "x_lin = np.linspace(0, 100, 101)\n",
    "\n",
    "y = (x_lin + np.random.randn(101) * 5) * w + b\n",
    "\n",
    "plt.plot(x_lin, y, 'b.', label = 'data points')\n",
    "plt.title(\"Assume we have data points\")\n",
    "plt.legend(loc = 2)\n",
    "plt.show()"
   ]
  },
  {
   "cell_type": "code",
   "execution_count": 28,
   "metadata": {},
   "outputs": [
    {
     "data": {
      "image/png": "[encoded data removed]",
      "text/plain": [
       "<Figure size 432x288 with 1 Axes>"
      ]
     },
     "metadata": {},
     "output_type": "display_data"
    }
   ],
   "source": [
    "y_hat = x_lin * w + b\n",
    "plt.plot(x_lin, y, 'b.', label = 'data')\n",
    "plt.plot(x_lin, y_hat, 'r-', label = 'prediction')\n",
    "plt.title(\"Assume we have data points (And the prediction)\")\n",
    "plt.legend(loc = 2)\n",
    "plt.show()"
   ]
  },
  {
   "cell_type": "code",
   "execution_count": 29,
   "metadata": {},
   "outputs": [
    {
     "name": "stdout",
     "output_type": "stream",
     "text": [
      "The Mean squared error is 205.248\n",
      "The Mean absolute error is 11.387\n"
     ]
    }
   ],
   "source": [
    "# 執行 Function, 確認有沒有正常執行\n",
    "MSE = mean_squared_error(y, y_hat)\n",
    "MAE = mean_absolute_error(y, y_hat)\n",
    "print(\"The Mean squared error is %.3f\" % (MSE))\n",
    "print(\"The Mean absolute error is %.3f\" % (MAE))"
   ]
  },
  {
   "cell_type": "code",
   "execution_count": null,
   "metadata": {},
   "outputs": [],
   "source": []
  },
  {
   "cell_type": "code",
   "execution_count": null,
   "metadata": {},
   "outputs": [],
   "source": []
  }
 ],
 "metadata": {
  "kernelspec": {
   "display_name": "Python 3",
   "language": "python",
   "name": "python3"
  },
  "language_info": {
   "codemirror_mode": {
    "name": "ipython",
    "version": 3
   },
   "file_extension": ".py",
   "mimetype": "text/x-python",
   "name": "python",
   "nbconvert_exporter": "python",
   "pygments_lexer": "ipython3",
   "version": "3.6.5"
  }
 },
 "nbformat": 4,
 "nbformat_minor": 2
}
